{
 "cells": [
  {
   "cell_type": "code",
   "execution_count": null,
   "metadata": {},
   "outputs": [],
   "source": [
    "import arcpy\n",
    "import pandas as pd"
   ]
  },
  {
   "cell_type": "markdown",
   "metadata": {},
   "source": [
    "# State Percentage Votes Difference"
   ]
  },
  {
   "cell_type": "code",
   "execution_count": null,
   "metadata": {},
   "outputs": [],
   "source": [
    "import pandas as pd\n",
    "import arcgis\n",
    "import arcpy"
   ]
  },
  {
   "cell_type": "code",
   "execution_count": null,
   "metadata": {},
   "outputs": [],
   "source": [
    "# Convert feature class to Spatially-enabled Dataframe\n",
    "data_fc = r\"path\"\n",
    "sedf = pd.DataFrame.spatial.from_featureclass(data_fc)\n",
    "sedf.head()"
   ]
  },
  {
   "cell_type": "code",
   "execution_count": null,
   "metadata": {},
   "outputs": [],
   "source": [
    "# Get list of states\n",
    "states_list = sedf['state'].unique().tolist()\n",
    "states_list"
   ]
  },
  {
   "cell_type": "code",
   "execution_count": null,
   "metadata": {},
   "outputs": [],
   "source": [
    "# Set reference to each dataset that needs this calculated data\n",
    "enriched_fc = data_fc\n",
    "selected_fc = r\"path\"\n",
    "tracts_fc = r\"path\""
   ]
  },
  {
   "cell_type": "code",
   "execution_count": null,
   "metadata": {},
   "outputs": [],
   "source": [
    "# For each state\n",
    "for state in states_list:\n",
    "    print(\"Calculating {0}...\".format(state))\n",
    "\n",
    "    # Get the total votes\n",
    "    state_sedf = sedf.loc[sedf['state'] == state]\n",
    "    state_votes_total = state_sedf['votes_total'].sum()\n",
    "    \n",
    "    # Get total votes for each party\n",
    "    state_votes_dem_total = state_sedf['votes_dem'].sum()\n",
    "    state_votes_gop_total = state_sedf['votes_gop'].sum()\n",
    "    # Calculate total votes diff for state\n",
    "    state_votes_total_diff = abs(state_votes_dem_total - state_votes_gop_total)\n",
    "    \n",
    "    # Calculate percent for each party\n",
    "    state_votes_dem_pcnt = state_votes_dem_total / state_votes_total\n",
    "    state_votes_gop_pcnt = state_votes_gop_total / state_votes_total\n",
    "    # Calculate percent diff for state\n",
    "    state_votes_pcnt_diff = abs(state_votes_dem_pcnt - state_votes_gop_pcnt)  \n",
    "    \n",
    "    # Write data for all county records for this state\n",
    "    print(\"\\tCalculating Enriched FC...\")\n",
    "    whereclause = \"{0} = '{1}'\".format(arcpy.AddFieldDelimiters(enriched_fc, \"state\"), state)\n",
    "    with arcpy.da.UpdateCursor(enriched_fc, \n",
    "                               ['state_votes_total_diff', 'state_votes_pcnt_diff'],\n",
    "                               whereclause) as cursor:\n",
    "        for row in cursor:\n",
    "            row[0] = state_votes_total_diff\n",
    "            row[1] = state_votes_pcnt_diff\n",
    "            cursor.updateRow(row)\n",
    "            \n",
    "    # Write data for all county records for this state\n",
    "    print(\"\\tCalculating Selected FC...\")\n",
    "    whereclause = \"{0} = '{1}'\".format(arcpy.AddFieldDelimiters(selected_fc, \"state\"), state)\n",
    "    with arcpy.da.UpdateCursor(selected_fc, \n",
    "                               ['state_votes_total_diff', 'state_votes_pcnt_diff'],\n",
    "                               whereclause) as cursor:\n",
    "        for row in cursor:\n",
    "            row[0] = state_votes_total_diff\n",
    "            row[1] = state_votes_pcnt_diff\n",
    "            cursor.updateRow(row)\n",
    "            \n",
    "    # Write data for all county records for this state\n",
    "    print(\"\\tCalculating Tracts FC...\")\n",
    "    whereclause = \"{0} = '{1}'\".format(arcpy.AddFieldDelimiters(tracts_fc, \"State\"), state)\n",
    "    with arcpy.da.UpdateCursor(tracts_fc, \n",
    "                               ['state_votes_total_diff', 'state_votes_pcnt_diff'],\n",
    "                               whereclause) as cursor:\n",
    "        for row in cursor:\n",
    "            row[0] = state_votes_total_diff\n",
    "            row[1] = state_votes_pcnt_diff\n",
    "            cursor.updateRow(row)"
   ]
  }
 ],
 "metadata": {
  "kernelspec": {
   "display_name": "ArcGISPro",
   "language": "Python",
   "name": "python3"
  },
  "language_info": {
   "file_extension": ".py",
   "name": "python",
   "version": "3"
  }
 },
 "nbformat": 4,
 "nbformat_minor": 2
}
